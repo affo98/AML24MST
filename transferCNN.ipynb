{
 "cells": [
  {
   "cell_type": "markdown",
   "metadata": {},
   "source": [
    "## This notebok uses a pre-trained model to classify music genres based on image-text pairs"
   ]
  },
  {
   "cell_type": "code",
   "execution_count": null,
   "metadata": {},
   "outputs": [],
   "source": [
    "# Data preprocessing\n",
    "import pandas as pd\n",
    "import numpy as np\n",
    "import os, librosa\n",
    "from tqdm import tqdm\n",
    "from sklearn.metrics import confusion_matrix\n",
    "\n",
    "\n",
    "# Visualization\n",
    "import IPython.display as ipd\n",
    "import matplotlib.pyplot as plt\n",
    "import seaborn as sns\n",
    "\n",
    "#tf\n",
    "import keras\n",
    "import tensorflow as tf\n",
    "from tensorflow.keras.applications import ResNet50\n",
    "from tensorflow.keras import layers, Model, Input\n",
    "import tensorflow_hub as hub\n",
    "from keras.preprocessing.sequence import pad_sequences\n",
    "from keras.utils import to_categorical\n",
    "from keras import layers, Sequential\n",
    "from keras.callbacks import EarlyStopping"
   ]
  },
  {
   "cell_type": "code",
   "execution_count": null,
   "metadata": {},
   "outputs": [],
   "source": [
    "# Displaying a random waveform and spectrogram\n",
    "audioFile = 'data/genres_original/blues/blues.00000.wav'\n",
    "waveform, sampleRate = librosa.load(audioFile)\n",
    "print('Class : Blues\\n')\n",
    "ipd.display(ipd.Audio(waveform, rate = sampleRate))\n",
    "\n",
    "\n",
    "# Displaying waveform\n",
    "plt.figure(figsize = (15, 4))\n",
    "plt.subplot(1, 2, 1)\n",
    "plt.plot(waveform)\n",
    "plt.title('Waveform', fontsize = 16)\n",
    "plt.xlabel('Sample Index', fontsize = 12)\n",
    "plt.ylabel('Amplitude', fontsize = 12)\n",
    "\n",
    "\n",
    "# Displaying spectrogram\n",
    "plt.subplot(1, 2, 2)\n",
    "plt.specgram(waveform, Fs = sampleRate)\n",
    "plt.title('Spectrogram', fontsize = 16)\n",
    "plt.xlabel('Time (s)', fontsize = 12)\n",
    "plt.ylabel('Frequency (Hz)', fontsize = 12)\n",
    "\n",
    "plt.show()"
   ]
  },
  {
   "cell_type": "code",
   "execution_count": null,
   "metadata": {},
   "outputs": [],
   "source": [
    "def get_melspectrogram(audioFile, sampleRate=22050):\n",
    "    audio_as_np_array, sample_rate = librosa.load(audioFile, sr=sampleRate)\n",
    "    melody_spectrogram = librosa.feature.melspectrogram(y=audio_as_np_array, sr=sampleRate, n_mels=140, fmax=9000, n_fft=2048, hop_length=512)\n",
    "    mel_spectro_in_DB = librosa.power_to_db(melody_spectrogram,ref=np.max)\n",
    "    mel_spectro_30_sec = librosa.util.fix_length(mel_spectro_in_DB, size=1293, mode='edge', axis=1)\n",
    "    return mel_spectro_30_sec\n",
    "\n",
    "# Root directory containing the audio files\n",
    "\n",
    "def load_data(path_to_root, split: str):\n",
    "    X = []\n",
    "    y = []\n",
    "    root = os.path.join(path_to_root, split)\n",
    "    label_mapping = {\"pop\":0, \"metal\":1, \"disco\":2, \"blues\":3, \"reggae\":4, \"classical\":5, \"rock\":6, \"hiphop\":7, \"country\":8, \"jazz\":9}\n",
    "    # Iterating through the folders and files to extract features\n",
    "    for folder in os.listdir(root):\n",
    "        folderPath = os.path.join(root, folder)\n",
    "        for file in tqdm(os.listdir(folderPath), desc = f'Processing folder {folder}'):\n",
    "            filePath = os.path.join(folderPath, file)\n",
    "            features = get_melspectrogram(filePath)\n",
    "            if features is not None:\n",
    "                X.append(features)\n",
    "                y.append(to_categorical(label_mapping[folder], num_classes = 10))\n",
    "    return X, y\n",
    "    \n",
    "X_train, y_train = load_data('data_train_val_test/', 'train')\n",
    "X_val, y_val = load_data('data_train_val_test/', 'val')"
   ]
  },
  {
   "cell_type": "code",
   "execution_count": null,
   "metadata": {},
   "outputs": [],
   "source": [
    "# Load pre-trained ResNet model without the top (classification) layer\n",
    "resnet50 = ResNet50(weights='imagenet', include_top=False, input_shape=(140, 1293, 3))\n",
    "# Freeze layers of the pre-trained model\n",
    "for layer in resnet50.layers:\n",
    "    layer.trainable = False"
   ]
  },
  {
   "cell_type": "code",
   "execution_count": null,
   "metadata": {},
   "outputs": [],
   "source": [
    "WIDTH = 1293\n",
    "HEIGHT = 140\n",
    "\n",
    "# Define the model\n",
    "input_layer = Input(shape=(HEIGHT,WIDTH,1),batch_size=32)\n",
    "print('input shape',x.shape)\n",
    "# Add a layer for the transformation from 2D to 3D\n",
    "x = layers.Conv2D(3,(1, 1), activation=\"relu\", input_shape = (HEIGHT,WIDTH,1))(input_layer)\n",
    "print(\"2d to 3d\", x.shape)\n",
    "#add resnet \n",
    "x = resnet50(x)\n",
    "print(\"after resnet\", x.shape)\n",
    "# Add additional layers\n",
    "\n",
    "x = layers.Flatten()(x)\n",
    "print(\"flatten dimensions\",x.shape)\n",
    "x = layers.Dense(256, activation='relu')(x)  # Add your custom layer\n",
    "print(\"MLP DEnse\",x.shape)\n",
    "\n",
    "predictions = layers.Dense(10, activation='softmax')(x)  # Assuming num_classes is the number of classes in your dataset\n",
    "print('predictions',predictions.shape)\n",
    "# Create the model\n",
    "model = Model(inputs=input_layer, outputs=predictions)\n",
    "\n",
    "# Compile the model\n",
    "model.compile(optimizer=keras.optimizers.Adam(learning_rate=1e-3),\n",
    "              loss='categorical_crossentropy',\n",
    "              metrics=['accuracy'])\n",
    "\n"
   ]
  },
  {
   "cell_type": "code",
   "execution_count": null,
   "metadata": {},
   "outputs": [],
   "source": [
    "\n",
    "# Train the model\n",
    "model.fit(np.array(X_train),np.array(y_train), epochs=10, batch_size=32, validation_data=(np.array(X_val), np.array(y_val)), callbacks=[EarlyStopping(patience=2)])\n",
    "\n",
    "# Evaluate the model"
   ]
  },
  {
   "cell_type": "code",
   "execution_count": null,
   "metadata": {},
   "outputs": [],
   "source": [
    "# Helper \n",
    "\n",
    "genre_names = [\n",
    "    \"blues\",\n",
    "    \"classical\",\n",
    "    \"country\",\n",
    "    \"disco\",\n",
    "    \"hiphop\",\n",
    "    \"jazz\",\n",
    "    \"metal\",\n",
    "    \"pop\",\n",
    "    \"reggae\",\n",
    "    \"rock\",\n",
    "]\n",
    "genre_codes = [0, 1, 2, 3, 4, 5, 6, 7, 8, 9]\n",
    "\n",
    "# Import these into your working script to make sure that we all have the same codes\n",
    "id2label = {id_: label for id_, label in zip(genre_codes, genre_names)}\n",
    "label2id = {label: id_ for label, id_ in zip(genre_names, genre_codes)}\n",
    "genres = list(label2id.keys())"
   ]
  },
  {
   "cell_type": "code",
   "execution_count": null,
   "metadata": {},
   "outputs": [],
   "source": [
    "#load test data\n",
    "X_test, y_test = load_data('data_train_val_test/', 'test')"
   ]
  },
  {
   "cell_type": "code",
   "execution_count": null,
   "metadata": {},
   "outputs": [],
   "source": [
    "#model inference\n",
    "y_pred = model.predict(np.array(X_test))\n",
    "model_eval = model.evaluate(np.array(X_test), np.array(y_test))"
   ]
  },
  {
   "cell_type": "code",
   "execution_count": null,
   "metadata": {},
   "outputs": [],
   "source": [
    "## Inference - > Predict -> confusion matrix\n",
    "\n",
    "y_pred = np.argmax(y_pred, axis = 1)\n",
    "y_test=np.argmax(y_test, axis=1)\n",
    "\n",
    "grid_cm = pd.DataFrame(confusion_matrix(y_test, y_pred, normalize='pred'),\n",
    "                       index=genres,\n",
    "                       columns=genres)\n",
    "\n",
    "\n",
    "plt.figure(figsize=(8,6))\n",
    "plt.title(\"Confusion matrix\")\n",
    "sns.heatmap(grid_cm, annot=True, cmap=\"viridis\")\n",
    "plt.ylabel('True')\n",
    "plt.xlabel('Predicted')\n",
    "plt.show()"
   ]
  },
  {
   "cell_type": "code",
   "execution_count": null,
   "metadata": {},
   "outputs": [],
   "source": []
  }
 ],
 "metadata": {
  "kernelspec": {
   "display_name": "adv_ML",
   "language": "python",
   "name": "python3"
  },
  "language_info": {
   "codemirror_mode": {
    "name": "ipython",
    "version": 3
   },
   "file_extension": ".py",
   "mimetype": "text/x-python",
   "name": "python",
   "nbconvert_exporter": "python",
   "pygments_lexer": "ipython3",
   "version": "3.10.4"
  }
 },
 "nbformat": 4,
 "nbformat_minor": 2
}
